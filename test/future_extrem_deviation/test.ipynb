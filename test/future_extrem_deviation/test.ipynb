{
 "cells": [
  {
   "cell_type": "code",
   "execution_count": 1,
   "metadata": {},
   "outputs": [],
   "source": [
    "import pandas as pd\n",
    "from NNTrade.common.candle_col_name import OPEN, HIGH"
   ]
  },
  {
   "cell_type": "code",
   "execution_count": 2,
   "metadata": {},
   "outputs": [],
   "source": [
    "quote_df = pd.DataFrame({OPEN: [1,10,100,1000], HIGH: [10,15,12,11]}, index=[1,2,3,4])"
   ]
  },
  {
   "cell_type": "code",
   "execution_count": 3,
   "metadata": {},
   "outputs": [],
   "source": [
    "shifted_v_df = pd.DataFrame([quote_df[HIGH].shift(-shift).rename(shift) for shift in range(2)]).T"
   ]
  },
  {
   "cell_type": "code",
   "execution_count": 34,
   "metadata": {},
   "outputs": [
    {
     "data": {
      "text/html": [
       "<div>\n",
       "<style scoped>\n",
       "    .dataframe tbody tr th:only-of-type {\n",
       "        vertical-align: middle;\n",
       "    }\n",
       "\n",
       "    .dataframe tbody tr th {\n",
       "        vertical-align: top;\n",
       "    }\n",
       "\n",
       "    .dataframe thead th {\n",
       "        text-align: right;\n",
       "    }\n",
       "</style>\n",
       "<table border=\"1\" class=\"dataframe\">\n",
       "  <thead>\n",
       "    <tr style=\"text-align: right;\">\n",
       "      <th></th>\n",
       "      <th>0</th>\n",
       "      <th>1</th>\n",
       "    </tr>\n",
       "  </thead>\n",
       "  <tbody>\n",
       "    <tr>\n",
       "      <th>1</th>\n",
       "      <td>10.0</td>\n",
       "      <td>15.0</td>\n",
       "    </tr>\n",
       "    <tr>\n",
       "      <th>2</th>\n",
       "      <td>15.0</td>\n",
       "      <td>12.0</td>\n",
       "    </tr>\n",
       "    <tr>\n",
       "      <th>3</th>\n",
       "      <td>12.0</td>\n",
       "      <td>11.0</td>\n",
       "    </tr>\n",
       "    <tr>\n",
       "      <th>4</th>\n",
       "      <td>11.0</td>\n",
       "      <td>-99999.0</td>\n",
       "    </tr>\n",
       "  </tbody>\n",
       "</table>\n",
       "</div>"
      ],
      "text/plain": [
       "      0        1\n",
       "1  10.0     15.0\n",
       "2  15.0     12.0\n",
       "3  12.0     11.0\n",
       "4  11.0 -99999.0"
      ]
     },
     "execution_count": 34,
     "metadata": {},
     "output_type": "execute_result"
    }
   ],
   "source": [
    "shifted_v_df.fillna(-99999)"
   ]
  },
  {
   "cell_type": "code",
   "execution_count": 44,
   "metadata": {},
   "outputs": [
    {
     "data": {
      "text/plain": [
       "1    10.0\n",
       "2    15.0\n",
       "3    12.0\n",
       "4    11.0\n",
       "Name: 0, dtype: float64"
      ]
     },
     "execution_count": 44,
     "metadata": {},
     "output_type": "execute_result"
    }
   ],
   "source": [
    "ret_ext_v_sr = shifted_v_df[shifted_v_df.columns[0]]\n",
    "ret_ext_v_sr"
   ]
  },
  {
   "cell_type": "code",
   "execution_count": 45,
   "metadata": {},
   "outputs": [],
   "source": [
    "limit = 11"
   ]
  },
  {
   "cell_type": "code",
   "execution_count": 51,
   "metadata": {},
   "outputs": [],
   "source": [
    "c = shifted_v_df.columns[1]"
   ]
  },
  {
   "cell_type": "code",
   "execution_count": 69,
   "metadata": {},
   "outputs": [
    {
     "data": {
      "text/plain": [
       "True"
      ]
     },
     "execution_count": 69,
     "metadata": {},
     "output_type": "execute_result"
    }
   ],
   "source": [
    "(ret_ext_v_sr >= limit).all()"
   ]
  },
  {
   "cell_type": "code",
   "execution_count": 61,
   "metadata": {},
   "outputs": [],
   "source": [
    "new_v_sr = shifted_v_df[c][(ret_ext_v_sr < shifted_v_df[c]) & (ret_ext_v_sr <= limit)]\n",
    "ret_ext_v_sr.loc[new_v_sr.index] = new_v_sr\n"
   ]
  },
  {
   "cell_type": "code",
   "execution_count": 62,
   "metadata": {},
   "outputs": [
    {
     "data": {
      "text/plain": [
       "1    15.0\n",
       "Name: 1, dtype: float64"
      ]
     },
     "execution_count": 62,
     "metadata": {},
     "output_type": "execute_result"
    }
   ],
   "source": [
    "new_v_sr"
   ]
  },
  {
   "cell_type": "code",
   "execution_count": 63,
   "metadata": {},
   "outputs": [
    {
     "data": {
      "text/plain": [
       "1    15.0\n",
       "2    15.0\n",
       "3    12.0\n",
       "4    11.0\n",
       "Name: 0, dtype: float64"
      ]
     },
     "execution_count": 63,
     "metadata": {},
     "output_type": "execute_result"
    }
   ],
   "source": [
    "ret_ext_v_sr"
   ]
  },
  {
   "cell_type": "code",
   "execution_count": 7,
   "metadata": {},
   "outputs": [
    {
     "ename": "ValueError",
     "evalue": "Operands are not aligned. Do `left, right = left.align(right, axis=1, copy=False)` before operating.",
     "output_type": "error",
     "traceback": [
      "\u001b[0;31m---------------------------------------------------------------------------\u001b[0m",
      "\u001b[0;31mValueError\u001b[0m                                Traceback (most recent call last)",
      "Cell \u001b[0;32mIn[7], line 2\u001b[0m\n\u001b[1;32m      1\u001b[0m \u001b[39mfor\u001b[39;00m c \u001b[39min\u001b[39;00m shifted_v_df\u001b[39m.\u001b[39mcolumns:\n\u001b[0;32m----> 2\u001b[0m   ret_ext_v_sr \u001b[39m=\u001b[39m shifted_v_df[(ret_ext_v_sr \u001b[39m>\u001b[39;49m shifted_v_df[c]) \u001b[39m&\u001b[39m (ret_ext_v_sr \u001b[39m<\u001b[39m\u001b[39m=\u001b[39m limit)]\n\u001b[1;32m      3\u001b[0m ret_ext_v_sr\n",
      "File \u001b[0;32m~/.local/lib/python3.11/site-packages/pandas/core/ops/common.py:81\u001b[0m, in \u001b[0;36m_unpack_zerodim_and_defer.<locals>.new_method\u001b[0;34m(self, other)\u001b[0m\n\u001b[1;32m     77\u001b[0m             \u001b[39mreturn\u001b[39;00m \u001b[39mNotImplemented\u001b[39m\n\u001b[1;32m     79\u001b[0m other \u001b[39m=\u001b[39m item_from_zerodim(other)\n\u001b[0;32m---> 81\u001b[0m \u001b[39mreturn\u001b[39;00m method(\u001b[39mself\u001b[39;49m, other)\n",
      "File \u001b[0;32m~/.local/lib/python3.11/site-packages/pandas/core/arraylike.py:56\u001b[0m, in \u001b[0;36mOpsMixin.__gt__\u001b[0;34m(self, other)\u001b[0m\n\u001b[1;32m     54\u001b[0m \u001b[39m@unpack_zerodim_and_defer\u001b[39m(\u001b[39m\"\u001b[39m\u001b[39m__gt__\u001b[39m\u001b[39m\"\u001b[39m)\n\u001b[1;32m     55\u001b[0m \u001b[39mdef\u001b[39;00m \u001b[39m__gt__\u001b[39m(\u001b[39mself\u001b[39m, other):\n\u001b[0;32m---> 56\u001b[0m     \u001b[39mreturn\u001b[39;00m \u001b[39mself\u001b[39;49m\u001b[39m.\u001b[39;49m_cmp_method(other, operator\u001b[39m.\u001b[39;49mgt)\n",
      "File \u001b[0;32m~/.local/lib/python3.11/site-packages/pandas/core/frame.py:7452\u001b[0m, in \u001b[0;36mDataFrame._cmp_method\u001b[0;34m(self, other, op)\u001b[0m\n\u001b[1;32m   7449\u001b[0m \u001b[39mdef\u001b[39;00m \u001b[39m_cmp_method\u001b[39m(\u001b[39mself\u001b[39m, other, op):\n\u001b[1;32m   7450\u001b[0m     axis: Literal[\u001b[39m1\u001b[39m] \u001b[39m=\u001b[39m \u001b[39m1\u001b[39m  \u001b[39m# only relevant for Series other case\u001b[39;00m\n\u001b[0;32m-> 7452\u001b[0m     \u001b[39mself\u001b[39m, other \u001b[39m=\u001b[39m ops\u001b[39m.\u001b[39;49malign_method_FRAME(\u001b[39mself\u001b[39;49m, other, axis, flex\u001b[39m=\u001b[39;49m\u001b[39mFalse\u001b[39;49;00m, level\u001b[39m=\u001b[39;49m\u001b[39mNone\u001b[39;49;00m)\n\u001b[1;32m   7454\u001b[0m     \u001b[39m# See GH#4537 for discussion of scalar op behavior\u001b[39;00m\n\u001b[1;32m   7455\u001b[0m     new_data \u001b[39m=\u001b[39m \u001b[39mself\u001b[39m\u001b[39m.\u001b[39m_dispatch_frame_op(other, op, axis\u001b[39m=\u001b[39maxis)\n",
      "File \u001b[0;32m~/.local/lib/python3.11/site-packages/pandas/core/ops/__init__.py:323\u001b[0m, in \u001b[0;36malign_method_FRAME\u001b[0;34m(left, right, axis, flex, level)\u001b[0m\n\u001b[1;32m    321\u001b[0m \u001b[39mif\u001b[39;00m \u001b[39mnot\u001b[39;00m flex:\n\u001b[1;32m    322\u001b[0m     \u001b[39mif\u001b[39;00m \u001b[39mnot\u001b[39;00m left\u001b[39m.\u001b[39maxes[axis]\u001b[39m.\u001b[39mequals(right\u001b[39m.\u001b[39mindex):\n\u001b[0;32m--> 323\u001b[0m         \u001b[39mraise\u001b[39;00m \u001b[39mValueError\u001b[39;00m(\n\u001b[1;32m    324\u001b[0m             \u001b[39m\"\u001b[39m\u001b[39mOperands are not aligned. Do \u001b[39m\u001b[39m\"\u001b[39m\n\u001b[1;32m    325\u001b[0m             \u001b[39m\"\u001b[39m\u001b[39m`left, right = left.align(right, axis=1, copy=False)` \u001b[39m\u001b[39m\"\u001b[39m\n\u001b[1;32m    326\u001b[0m             \u001b[39m\"\u001b[39m\u001b[39mbefore operating.\u001b[39m\u001b[39m\"\u001b[39m\n\u001b[1;32m    327\u001b[0m         )\n\u001b[1;32m    329\u001b[0m left, right \u001b[39m=\u001b[39m left\u001b[39m.\u001b[39malign(\n\u001b[1;32m    330\u001b[0m     right, join\u001b[39m=\u001b[39m\u001b[39m\"\u001b[39m\u001b[39mouter\u001b[39m\u001b[39m\"\u001b[39m, axis\u001b[39m=\u001b[39maxis, level\u001b[39m=\u001b[39mlevel, copy\u001b[39m=\u001b[39m\u001b[39mFalse\u001b[39;00m\n\u001b[1;32m    331\u001b[0m )\n\u001b[1;32m    332\u001b[0m right \u001b[39m=\u001b[39m _maybe_align_series_as_frame(left, right, axis)\n",
      "\u001b[0;31mValueError\u001b[0m: Operands are not aligned. Do `left, right = left.align(right, axis=1, copy=False)` before operating."
     ]
    }
   ],
   "source": [
    "for c in shifted_v_df.columns:\n",
    "  new_v_sr = shifted_v_df[c][(ret_ext_v_sr < shifted_v_df[c]) & (ret_ext_v_sr <= limit)]\n",
    "ret_ext_v_sr.loc[new_v_sr.index] = new_v_sr"
   ]
  }
 ],
 "metadata": {
  "kernelspec": {
   "display_name": "Python 3",
   "language": "python",
   "name": "python3"
  },
  "language_info": {
   "codemirror_mode": {
    "name": "ipython",
    "version": 3
   },
   "file_extension": ".py",
   "mimetype": "text/x-python",
   "name": "python",
   "nbconvert_exporter": "python",
   "pygments_lexer": "ipython3",
   "version": "3.11.2"
  },
  "orig_nbformat": 4
 },
 "nbformat": 4,
 "nbformat_minor": 2
}
