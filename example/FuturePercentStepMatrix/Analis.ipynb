{
 "cells": [
  {
   "cell_type": "code",
   "execution_count": 2,
   "metadata": {},
   "outputs": [],
   "source": [
    "import logging\n",
    "\n",
    "logging.basicConfig(format='\\033[93m%(asctime)s %(levelname)s %(name)s:\\033[0m %(message)s', level=logging.INFO, datefmt='%I:%M:%S')\n",
    "import warnings\n",
    "import pandas as pd\n",
    "\n",
    "warnings.simplefilter(action='ignore', category=pd.errors.PerformanceWarning)\n",
    "warnings.simplefilter(action=\"ignore\", category=pd.errors.SettingWithCopyWarning)"
   ]
  },
  {
   "cell_type": "code",
   "execution_count": 3,
   "metadata": {},
   "outputs": [],
   "source": [
    "import pandas as pd\n",
    "import numpy as np\n",
    "import matplotlib.pyplot as plt"
   ]
  },
  {
   "attachments": {},
   "cell_type": "markdown",
   "metadata": {},
   "source": [
    "# Load Data"
   ]
  },
  {
   "cell_type": "code",
   "execution_count": 4,
   "metadata": {},
   "outputs": [],
   "source": [
    "from NNTrade.source.market.quotes import QuoteSource, date\n",
    "from NNTrade.source.market.client import QuoteSourceClientFinamCSV, TimeFrame\n",
    "from NNTrade.source.market.cache.filecache.file_cache_quote import FileCacheQuote\n",
    "from NNTrade.common.candle_col_name import INDEX, OPEN, HIGH, LOW, CLOSE, VOLUME"
   ]
  },
  {
   "cell_type": "code",
   "execution_count": 5,
   "metadata": {},
   "outputs": [
    {
     "name": "stderr",
     "output_type": "stream",
     "text": [
      "\u001b[93m09:27:10 INFO QuoteSourceClientCSV:\u001b[0m File ./quote/EURUSD.Minute1.csv to stock EURUSD timeframe Minute1 added to client\n"
     ]
    }
   ],
   "source": [
    "qsc = QuoteSourceClientFinamCSV(\"./quote/\")\n",
    "qsc.add_file(\"EURUSD.Minute1.csv\",\"EURUSD\", TimeFrame.m1)\n",
    "fcq = FileCacheQuote(\"./cache/quote\")\n",
    "qs = QuoteSource(fcq, qsc)"
   ]
  },
  {
   "cell_type": "code",
   "execution_count": 6,
   "metadata": {},
   "outputs": [
    {
     "data": {
      "text/html": [
       "<div>\n",
       "<style scoped>\n",
       "    .dataframe tbody tr th:only-of-type {\n",
       "        vertical-align: middle;\n",
       "    }\n",
       "\n",
       "    .dataframe tbody tr th {\n",
       "        vertical-align: top;\n",
       "    }\n",
       "\n",
       "    .dataframe thead th {\n",
       "        text-align: right;\n",
       "    }\n",
       "</style>\n",
       "<table border=\"1\" class=\"dataframe\">\n",
       "  <thead>\n",
       "    <tr style=\"text-align: right;\">\n",
       "      <th></th>\n",
       "      <th>aggregated_start_date_time</th>\n",
       "      <th>open</th>\n",
       "      <th>low</th>\n",
       "      <th>high</th>\n",
       "      <th>close</th>\n",
       "      <th>volume</th>\n",
       "      <th>isLast</th>\n",
       "    </tr>\n",
       "    <tr>\n",
       "      <th>start_date_time</th>\n",
       "      <th></th>\n",
       "      <th></th>\n",
       "      <th></th>\n",
       "      <th></th>\n",
       "      <th></th>\n",
       "      <th></th>\n",
       "      <th></th>\n",
       "    </tr>\n",
       "  </thead>\n",
       "  <tbody>\n",
       "    <tr>\n",
       "      <th>2010-01-01 00:00:00</th>\n",
       "      <td>2010-01-01 00:00:00</td>\n",
       "      <td>1.4331</td>\n",
       "      <td>1.4327</td>\n",
       "      <td>1.4337</td>\n",
       "      <td>1.4332</td>\n",
       "      <td>0.0</td>\n",
       "      <td>0</td>\n",
       "    </tr>\n",
       "    <tr>\n",
       "      <th>2010-01-01 00:01:00</th>\n",
       "      <td>2010-01-01 00:00:00</td>\n",
       "      <td>1.4331</td>\n",
       "      <td>1.4327</td>\n",
       "      <td>1.4337</td>\n",
       "      <td>1.4331</td>\n",
       "      <td>0.0</td>\n",
       "      <td>0</td>\n",
       "    </tr>\n",
       "    <tr>\n",
       "      <th>2010-01-01 00:02:00</th>\n",
       "      <td>2010-01-01 00:00:00</td>\n",
       "      <td>1.4331</td>\n",
       "      <td>1.4327</td>\n",
       "      <td>1.4337</td>\n",
       "      <td>1.4329</td>\n",
       "      <td>0.0</td>\n",
       "      <td>0</td>\n",
       "    </tr>\n",
       "    <tr>\n",
       "      <th>2010-01-01 00:03:00</th>\n",
       "      <td>2010-01-01 00:00:00</td>\n",
       "      <td>1.4331</td>\n",
       "      <td>1.4327</td>\n",
       "      <td>1.4337</td>\n",
       "      <td>1.4331</td>\n",
       "      <td>0.0</td>\n",
       "      <td>0</td>\n",
       "    </tr>\n",
       "    <tr>\n",
       "      <th>2010-01-01 00:04:00</th>\n",
       "      <td>2010-01-01 00:00:00</td>\n",
       "      <td>1.4331</td>\n",
       "      <td>1.4327</td>\n",
       "      <td>1.4337</td>\n",
       "      <td>1.4332</td>\n",
       "      <td>0.0</td>\n",
       "      <td>0</td>\n",
       "    </tr>\n",
       "    <tr>\n",
       "      <th>...</th>\n",
       "      <td>...</td>\n",
       "      <td>...</td>\n",
       "      <td>...</td>\n",
       "      <td>...</td>\n",
       "      <td>...</td>\n",
       "      <td>...</td>\n",
       "      <td>...</td>\n",
       "    </tr>\n",
       "    <tr>\n",
       "      <th>2010-09-30 23:56:00</th>\n",
       "      <td>2010-09-30 23:00:00</td>\n",
       "      <td>1.3654</td>\n",
       "      <td>1.3571</td>\n",
       "      <td>1.3654</td>\n",
       "      <td>1.3602</td>\n",
       "      <td>0.0</td>\n",
       "      <td>0</td>\n",
       "    </tr>\n",
       "    <tr>\n",
       "      <th>2010-09-30 23:57:00</th>\n",
       "      <td>2010-09-30 23:00:00</td>\n",
       "      <td>1.3654</td>\n",
       "      <td>1.3571</td>\n",
       "      <td>1.3654</td>\n",
       "      <td>1.3601</td>\n",
       "      <td>0.0</td>\n",
       "      <td>0</td>\n",
       "    </tr>\n",
       "    <tr>\n",
       "      <th>2010-09-30 23:58:00</th>\n",
       "      <td>2010-09-30 23:00:00</td>\n",
       "      <td>1.3654</td>\n",
       "      <td>1.3571</td>\n",
       "      <td>1.3654</td>\n",
       "      <td>1.3595</td>\n",
       "      <td>0.0</td>\n",
       "      <td>0</td>\n",
       "    </tr>\n",
       "    <tr>\n",
       "      <th>2010-09-30 23:59:00</th>\n",
       "      <td>2010-09-30 23:00:00</td>\n",
       "      <td>1.3654</td>\n",
       "      <td>1.3571</td>\n",
       "      <td>1.3654</td>\n",
       "      <td>1.3599</td>\n",
       "      <td>0.0</td>\n",
       "      <td>1</td>\n",
       "    </tr>\n",
       "    <tr>\n",
       "      <th>2010-10-01 00:00:00</th>\n",
       "      <td>2010-10-01 00:00:00</td>\n",
       "      <td>1.3599</td>\n",
       "      <td>1.3595</td>\n",
       "      <td>1.3603</td>\n",
       "      <td>1.3601</td>\n",
       "      <td>0.0</td>\n",
       "      <td>1</td>\n",
       "    </tr>\n",
       "  </tbody>\n",
       "</table>\n",
       "<p>285147 rows × 7 columns</p>\n",
       "</div>"
      ],
      "text/plain": [
       "                    aggregated_start_date_time    open     low    high   \n",
       "start_date_time                                                          \n",
       "2010-01-01 00:00:00        2010-01-01 00:00:00  1.4331  1.4327  1.4337  \\\n",
       "2010-01-01 00:01:00        2010-01-01 00:00:00  1.4331  1.4327  1.4337   \n",
       "2010-01-01 00:02:00        2010-01-01 00:00:00  1.4331  1.4327  1.4337   \n",
       "2010-01-01 00:03:00        2010-01-01 00:00:00  1.4331  1.4327  1.4337   \n",
       "2010-01-01 00:04:00        2010-01-01 00:00:00  1.4331  1.4327  1.4337   \n",
       "...                                        ...     ...     ...     ...   \n",
       "2010-09-30 23:56:00        2010-09-30 23:00:00  1.3654  1.3571  1.3654   \n",
       "2010-09-30 23:57:00        2010-09-30 23:00:00  1.3654  1.3571  1.3654   \n",
       "2010-09-30 23:58:00        2010-09-30 23:00:00  1.3654  1.3571  1.3654   \n",
       "2010-09-30 23:59:00        2010-09-30 23:00:00  1.3654  1.3571  1.3654   \n",
       "2010-10-01 00:00:00        2010-10-01 00:00:00  1.3599  1.3595  1.3603   \n",
       "\n",
       "                      close  volume  isLast  \n",
       "start_date_time                              \n",
       "2010-01-01 00:00:00  1.4332     0.0       0  \n",
       "2010-01-01 00:01:00  1.4331     0.0       0  \n",
       "2010-01-01 00:02:00  1.4329     0.0       0  \n",
       "2010-01-01 00:03:00  1.4331     0.0       0  \n",
       "2010-01-01 00:04:00  1.4332     0.0       0  \n",
       "...                     ...     ...     ...  \n",
       "2010-09-30 23:56:00  1.3602     0.0       0  \n",
       "2010-09-30 23:57:00  1.3601     0.0       0  \n",
       "2010-09-30 23:58:00  1.3595     0.0       0  \n",
       "2010-09-30 23:59:00  1.3599     0.0       1  \n",
       "2010-10-01 00:00:00  1.3601     0.0       1  \n",
       "\n",
       "[285147 rows x 7 columns]"
      ]
     },
     "execution_count": 6,
     "metadata": {},
     "output_type": "execute_result"
    }
   ],
   "source": [
    "quote_h1_m1 = qs.get(\"EURUSD\",TimeFrame.H, from_date=date(2010,1,1), untill_date=date(2011,1,1), step_timeframe=TimeFrame.m1)\n",
    "quote_h1_m1"
   ]
  },
  {
   "cell_type": "code",
   "execution_count": 7,
   "metadata": {},
   "outputs": [
    {
     "data": {
      "text/html": [
       "<div>\n",
       "<style scoped>\n",
       "    .dataframe tbody tr th:only-of-type {\n",
       "        vertical-align: middle;\n",
       "    }\n",
       "\n",
       "    .dataframe tbody tr th {\n",
       "        vertical-align: top;\n",
       "    }\n",
       "\n",
       "    .dataframe thead th {\n",
       "        text-align: right;\n",
       "    }\n",
       "</style>\n",
       "<table border=\"1\" class=\"dataframe\">\n",
       "  <thead>\n",
       "    <tr style=\"text-align: right;\">\n",
       "      <th></th>\n",
       "      <th>open</th>\n",
       "      <th>high</th>\n",
       "      <th>low</th>\n",
       "      <th>close</th>\n",
       "      <th>volume</th>\n",
       "    </tr>\n",
       "    <tr>\n",
       "      <th>start_date_time</th>\n",
       "      <th></th>\n",
       "      <th></th>\n",
       "      <th></th>\n",
       "      <th></th>\n",
       "      <th></th>\n",
       "    </tr>\n",
       "  </thead>\n",
       "  <tbody>\n",
       "    <tr>\n",
       "      <th>2010-01-01 00:00:00</th>\n",
       "      <td>1.4331</td>\n",
       "      <td>1.4341</td>\n",
       "      <td>1.4319</td>\n",
       "      <td>1.4326</td>\n",
       "      <td>0.0</td>\n",
       "    </tr>\n",
       "    <tr>\n",
       "      <th>2010-01-01 01:00:00</th>\n",
       "      <td>1.4325</td>\n",
       "      <td>1.4331</td>\n",
       "      <td>1.4322</td>\n",
       "      <td>1.4324</td>\n",
       "      <td>0.0</td>\n",
       "    </tr>\n",
       "    <tr>\n",
       "      <th>2010-01-01 02:00:00</th>\n",
       "      <td>1.4323</td>\n",
       "      <td>1.4325</td>\n",
       "      <td>1.4311</td>\n",
       "      <td>1.4312</td>\n",
       "      <td>0.0</td>\n",
       "    </tr>\n",
       "    <tr>\n",
       "      <th>2010-01-01 03:00:00</th>\n",
       "      <td>1.4314</td>\n",
       "      <td>1.4329</td>\n",
       "      <td>1.4310</td>\n",
       "      <td>1.4322</td>\n",
       "      <td>0.0</td>\n",
       "    </tr>\n",
       "    <tr>\n",
       "      <th>2010-01-01 04:00:00</th>\n",
       "      <td>1.4341</td>\n",
       "      <td>1.4341</td>\n",
       "      <td>1.4320</td>\n",
       "      <td>1.4329</td>\n",
       "      <td>0.0</td>\n",
       "    </tr>\n",
       "    <tr>\n",
       "      <th>...</th>\n",
       "      <td>...</td>\n",
       "      <td>...</td>\n",
       "      <td>...</td>\n",
       "      <td>...</td>\n",
       "      <td>...</td>\n",
       "    </tr>\n",
       "    <tr>\n",
       "      <th>2010-09-30 20:00:00</th>\n",
       "      <td>1.3627</td>\n",
       "      <td>1.3683</td>\n",
       "      <td>1.3623</td>\n",
       "      <td>1.3676</td>\n",
       "      <td>0.0</td>\n",
       "    </tr>\n",
       "    <tr>\n",
       "      <th>2010-09-30 21:00:00</th>\n",
       "      <td>1.3676</td>\n",
       "      <td>1.3677</td>\n",
       "      <td>1.3616</td>\n",
       "      <td>1.3630</td>\n",
       "      <td>0.0</td>\n",
       "    </tr>\n",
       "    <tr>\n",
       "      <th>2010-09-30 22:00:00</th>\n",
       "      <td>1.3630</td>\n",
       "      <td>1.3660</td>\n",
       "      <td>1.3623</td>\n",
       "      <td>1.3653</td>\n",
       "      <td>0.0</td>\n",
       "    </tr>\n",
       "    <tr>\n",
       "      <th>2010-09-30 23:00:00</th>\n",
       "      <td>1.3654</td>\n",
       "      <td>1.3654</td>\n",
       "      <td>1.3571</td>\n",
       "      <td>1.3599</td>\n",
       "      <td>0.0</td>\n",
       "    </tr>\n",
       "    <tr>\n",
       "      <th>2010-10-01 00:00:00</th>\n",
       "      <td>1.3599</td>\n",
       "      <td>1.3603</td>\n",
       "      <td>1.3595</td>\n",
       "      <td>1.3601</td>\n",
       "      <td>0.0</td>\n",
       "    </tr>\n",
       "  </tbody>\n",
       "</table>\n",
       "<p>4860 rows × 5 columns</p>\n",
       "</div>"
      ],
      "text/plain": [
       "                       open    high     low   close  volume\n",
       "start_date_time                                            \n",
       "2010-01-01 00:00:00  1.4331  1.4341  1.4319  1.4326     0.0\n",
       "2010-01-01 01:00:00  1.4325  1.4331  1.4322  1.4324     0.0\n",
       "2010-01-01 02:00:00  1.4323  1.4325  1.4311  1.4312     0.0\n",
       "2010-01-01 03:00:00  1.4314  1.4329  1.4310  1.4322     0.0\n",
       "2010-01-01 04:00:00  1.4341  1.4341  1.4320  1.4329     0.0\n",
       "...                     ...     ...     ...     ...     ...\n",
       "2010-09-30 20:00:00  1.3627  1.3683  1.3623  1.3676     0.0\n",
       "2010-09-30 21:00:00  1.3676  1.3677  1.3616  1.3630     0.0\n",
       "2010-09-30 22:00:00  1.3630  1.3660  1.3623  1.3653     0.0\n",
       "2010-09-30 23:00:00  1.3654  1.3654  1.3571  1.3599     0.0\n",
       "2010-10-01 00:00:00  1.3599  1.3603  1.3595  1.3601     0.0\n",
       "\n",
       "[4860 rows x 5 columns]"
      ]
     },
     "execution_count": 7,
     "metadata": {},
     "output_type": "execute_result"
    }
   ],
   "source": [
    "quote_h1 = quote_h1_m1[quote_h1_m1[\"isLast\"] == 1]\n",
    "quote_h1.set_index(\"aggregated_start_date_time\",inplace=True)\n",
    "quote_h1.index.name = INDEX\n",
    "quote_h1 = quote_h1[[OPEN, HIGH, LOW,CLOSE, VOLUME]]\n",
    "quote_h1"
   ]
  },
  {
   "attachments": {},
   "cell_type": "markdown",
   "metadata": {},
   "source": [
    "# Get Extrem of X candle"
   ]
  },
  {
   "cell_type": "code",
   "execution_count": 8,
   "metadata": {},
   "outputs": [],
   "source": [
    "from enum import Enum\n",
    "class ExtreamType(Enum):\n",
    "  High = 1,\n",
    "  Low = 2"
   ]
  },
  {
   "cell_type": "code",
   "execution_count": 26,
   "metadata": {},
   "outputs": [],
   "source": [
    "def get_extrem_of(quote_df:pd.DataFrame, period:int, extrem_type:ExtreamType)->pd.Series:\n",
    "  if extrem_type == ExtreamType.High:\n",
    "    col = HIGH\n",
    "    result_name = f\"Max_of_{extrem_type.name}\"    \n",
    "  elif extrem_type == ExtreamType.Low:\n",
    "    col = LOW\n",
    "    result_name = f\"Min_of_{extrem_type.name}\"\n",
    "  else:\n",
    "    raise AttributeError(\"Wrong attribute value\", \"extrem_type\", extrem_type)\n",
    "  prepare_df = pd.DataFrame([quote_df[col].shift(-shift).rename(f\"{col}_{shift}\") for shift in range(period+1)]).T\n",
    "  return (prepare_df.max(axis=1) if extrem_type == ExtreamType.High else prepare_df.min(axis=1)).rename(result_name)"
   ]
  },
  {
   "cell_type": "code",
   "execution_count": 27,
   "metadata": {},
   "outputs": [
    {
     "data": {
      "text/plain": [
       "start_date_time\n",
       "2010-01-01 00:00:00    1.4311\n",
       "2010-01-01 01:00:00    1.4310\n",
       "2010-01-01 02:00:00    1.4310\n",
       "2010-01-01 03:00:00    1.4310\n",
       "2010-01-01 04:00:00    1.4320\n",
       "                        ...  \n",
       "2010-09-30 20:00:00    1.3616\n",
       "2010-09-30 21:00:00    1.3571\n",
       "2010-09-30 22:00:00    1.3571\n",
       "2010-09-30 23:00:00    1.3571\n",
       "2010-10-01 00:00:00    1.3595\n",
       "Name: Min_of_Low, Length: 4860, dtype: float64"
      ]
     },
     "execution_count": 27,
     "metadata": {},
     "output_type": "execute_result"
    }
   ],
   "source": [
    "extr_df = get_extrem_of(quote_h1, 2, ExtreamType.Low)\n",
    "extr_df"
   ]
  },
  {
   "cell_type": "code",
   "execution_count": 28,
   "metadata": {},
   "outputs": [],
   "source": [
    "def get_extrem_rel_of(quote_df:pd.DataFrame, period:int, extrem_type:ExtreamType)->pd.Series:\n",
    "  extrem_sr = get_extrem_of(quote_df, period, extrem_type)\n",
    "  return ((extrem_sr - quote_h1[OPEN]) / quote_h1[OPEN]).rename(f\"Rel_of_{extrem_type.name}\")"
   ]
  },
  {
   "cell_type": "code",
   "execution_count": 30,
   "metadata": {},
   "outputs": [
    {
     "data": {
      "text/html": [
       "<div>\n",
       "<style scoped>\n",
       "    .dataframe tbody tr th:only-of-type {\n",
       "        vertical-align: middle;\n",
       "    }\n",
       "\n",
       "    .dataframe tbody tr th {\n",
       "        vertical-align: top;\n",
       "    }\n",
       "\n",
       "    .dataframe thead th {\n",
       "        text-align: right;\n",
       "    }\n",
       "</style>\n",
       "<table border=\"1\" class=\"dataframe\">\n",
       "  <thead>\n",
       "    <tr style=\"text-align: right;\">\n",
       "      <th></th>\n",
       "      <th>open</th>\n",
       "      <th>Min_of_Low</th>\n",
       "      <th>Unnamed 0</th>\n",
       "      <th>Rel_of_High</th>\n",
       "    </tr>\n",
       "    <tr>\n",
       "      <th>start_date_time</th>\n",
       "      <th></th>\n",
       "      <th></th>\n",
       "      <th></th>\n",
       "      <th></th>\n",
       "    </tr>\n",
       "  </thead>\n",
       "  <tbody>\n",
       "    <tr>\n",
       "      <th>2010-01-01 00:00:00</th>\n",
       "      <td>1.4331</td>\n",
       "      <td>1.4311</td>\n",
       "      <td>-0.0020</td>\n",
       "      <td>0.000698</td>\n",
       "    </tr>\n",
       "    <tr>\n",
       "      <th>2010-01-01 01:00:00</th>\n",
       "      <td>1.4325</td>\n",
       "      <td>1.4310</td>\n",
       "      <td>-0.0015</td>\n",
       "      <td>0.000419</td>\n",
       "    </tr>\n",
       "    <tr>\n",
       "      <th>2010-01-01 02:00:00</th>\n",
       "      <td>1.4323</td>\n",
       "      <td>1.4310</td>\n",
       "      <td>-0.0013</td>\n",
       "      <td>0.001257</td>\n",
       "    </tr>\n",
       "    <tr>\n",
       "      <th>2010-01-01 03:00:00</th>\n",
       "      <td>1.4314</td>\n",
       "      <td>1.4310</td>\n",
       "      <td>-0.0004</td>\n",
       "      <td>0.001886</td>\n",
       "    </tr>\n",
       "    <tr>\n",
       "      <th>2010-01-01 04:00:00</th>\n",
       "      <td>1.4341</td>\n",
       "      <td>1.4320</td>\n",
       "      <td>-0.0021</td>\n",
       "      <td>0.000000</td>\n",
       "    </tr>\n",
       "    <tr>\n",
       "      <th>...</th>\n",
       "      <td>...</td>\n",
       "      <td>...</td>\n",
       "      <td>...</td>\n",
       "      <td>...</td>\n",
       "    </tr>\n",
       "    <tr>\n",
       "      <th>2010-09-30 20:00:00</th>\n",
       "      <td>1.3627</td>\n",
       "      <td>1.3616</td>\n",
       "      <td>-0.0011</td>\n",
       "      <td>0.004109</td>\n",
       "    </tr>\n",
       "    <tr>\n",
       "      <th>2010-09-30 21:00:00</th>\n",
       "      <td>1.3676</td>\n",
       "      <td>1.3571</td>\n",
       "      <td>-0.0105</td>\n",
       "      <td>0.000073</td>\n",
       "    </tr>\n",
       "    <tr>\n",
       "      <th>2010-09-30 22:00:00</th>\n",
       "      <td>1.3630</td>\n",
       "      <td>1.3571</td>\n",
       "      <td>-0.0059</td>\n",
       "      <td>0.002201</td>\n",
       "    </tr>\n",
       "    <tr>\n",
       "      <th>2010-09-30 23:00:00</th>\n",
       "      <td>1.3654</td>\n",
       "      <td>1.3571</td>\n",
       "      <td>-0.0083</td>\n",
       "      <td>0.000000</td>\n",
       "    </tr>\n",
       "    <tr>\n",
       "      <th>2010-10-01 00:00:00</th>\n",
       "      <td>1.3599</td>\n",
       "      <td>1.3595</td>\n",
       "      <td>-0.0004</td>\n",
       "      <td>0.000294</td>\n",
       "    </tr>\n",
       "  </tbody>\n",
       "</table>\n",
       "<p>4860 rows × 4 columns</p>\n",
       "</div>"
      ],
      "text/plain": [
       "                       open  Min_of_Low  Unnamed 0  Rel_of_High\n",
       "start_date_time                                                \n",
       "2010-01-01 00:00:00  1.4331      1.4311    -0.0020     0.000698\n",
       "2010-01-01 01:00:00  1.4325      1.4310    -0.0015     0.000419\n",
       "2010-01-01 02:00:00  1.4323      1.4310    -0.0013     0.001257\n",
       "2010-01-01 03:00:00  1.4314      1.4310    -0.0004     0.001886\n",
       "2010-01-01 04:00:00  1.4341      1.4320    -0.0021     0.000000\n",
       "...                     ...         ...        ...          ...\n",
       "2010-09-30 20:00:00  1.3627      1.3616    -0.0011     0.004109\n",
       "2010-09-30 21:00:00  1.3676      1.3571    -0.0105     0.000073\n",
       "2010-09-30 22:00:00  1.3630      1.3571    -0.0059     0.002201\n",
       "2010-09-30 23:00:00  1.3654      1.3571    -0.0083     0.000000\n",
       "2010-10-01 00:00:00  1.3599      1.3595    -0.0004     0.000294\n",
       "\n",
       "[4860 rows x 4 columns]"
      ]
     },
     "execution_count": 30,
     "metadata": {},
     "output_type": "execute_result"
    }
   ],
   "source": [
    "pd.DataFrame([quote_h1[OPEN], extr_df, extr_df - quote_h1[OPEN], get_extrem_rel_of(quote_h1, 2, ExtreamType.High) ]).T"
   ]
  },
  {
   "cell_type": "code",
   "execution_count": 39,
   "metadata": {},
   "outputs": [
    {
     "data": {
      "text/plain": [
       "start_date_time\n",
       "2010-01-01 00:00:00    1.4341\n",
       "2010-01-01 01:00:00    1.4331\n",
       "2010-01-01 02:00:00    1.4341\n",
       "2010-01-01 03:00:00    1.4341\n",
       "2010-01-01 04:00:00    1.4341\n",
       "                        ...  \n",
       "2010-09-30 20:00:00    1.3683\n",
       "2010-09-30 21:00:00    1.3677\n",
       "2010-09-30 22:00:00    1.3660\n",
       "2010-09-30 23:00:00    1.3654\n",
       "2010-10-01 00:00:00    1.3603\n",
       "Length: 4860, dtype: float64"
      ]
     },
     "execution_count": 39,
     "metadata": {},
     "output_type": "execute_result"
    }
   ],
   "source": [
    "X = 2\n",
    "pd.DataFrame([quote_h1[HIGH].shift(-shift).rename(f\"{HIGH}_{shift}\") for shift in range(X+1)]).T.max(axis=1)"
   ]
  },
  {
   "cell_type": "markdown",
   "metadata": {},
   "source": [
    "# Create test data \n",
    "x_sr - test data series"
   ]
  },
  {
   "cell_type": "code",
   "execution_count": 13,
   "metadata": {},
   "outputs": [],
   "source": [
    "np.random.seed(1997)"
   ]
  },
  {
   "cell_type": "code",
   "execution_count": 14,
   "metadata": {},
   "outputs": [],
   "source": [
    "X = np.cumprod(1 + np.random.randn(300) * 0.01)"
   ]
  },
  {
   "cell_type": "code",
   "execution_count": 15,
   "metadata": {},
   "outputs": [],
   "source": [
    "from datetime import date\n",
    "from datetime import timedelta \n",
    "start_date = date(2000,1,1)\n",
    "start_date.weekday\n",
    "x_dt_idx = []\n",
    "for i in range(300):\n",
    "    x_dt_idx.append(start_date)\n",
    "    start_date = start_date+timedelta(days=1)\n",
    "    while start_date.weekday() >= 5:\n",
    "        start_date = start_date+timedelta(days=1)"
   ]
  },
  {
   "cell_type": "code",
   "execution_count": 16,
   "metadata": {},
   "outputs": [
    {
     "data": {
      "text/plain": [
       "2000-01-01    1.009469\n",
       "2000-01-03    1.014741\n",
       "2000-01-04    1.019599\n",
       "2000-01-05    1.026967\n",
       "2000-01-06    1.044660\n",
       "                ...   \n",
       "2001-02-16    2.441832\n",
       "2001-02-19    2.494932\n",
       "2001-02-20    2.509605\n",
       "2001-02-21    2.534710\n",
       "2001-02-22    2.570228\n",
       "Length: 300, dtype: float64"
      ]
     },
     "execution_count": 16,
     "metadata": {},
     "output_type": "execute_result"
    }
   ],
   "source": [
    "x_sr = pd.Series(X,index=x_dt_idx)\n",
    "increaser = 1\n",
    "def increase(x):\n",
    "    global increaser\n",
    "    increaser = increaser+0.005\n",
    "    return x*increaser\n",
    "x_sr = x_sr.apply(lambda x: increase(x))\n",
    "x_sr"
   ]
  },
  {
   "cell_type": "code",
   "execution_count": 21,
   "metadata": {},
   "outputs": [
    {
     "data": {
      "text/plain": [
       "[<matplotlib.lines.Line2D at 0x7f161913a710>]"
      ]
     },
     "execution_count": 21,
     "metadata": {},
     "output_type": "execute_result"
    },
    {
     "data": {
      "image/png": "[encoded data removed]",
      "text/plain": [
       "<Figure size 2400x800 with 1 Axes>"
      ]
     },
     "metadata": {
      "needs_background": "light"
     },
     "output_type": "display_data"
    }
   ],
   "source": [
    "f, ax = plt.subplots(figsize=(30,10), dpi=80)\n",
    "plt.subplots_adjust(hspace=0)\n",
    "\n",
    "ax.set_xlim(0, len(X))\n",
    "ax.set_ylim(x_sr.min()*0.99, x_sr.max()*1.01)\n",
    "ax.plot(np.arange(len(x_sr)), x_sr, 'k:', alpha=0.5)"
   ]
  }
 ],
 "metadata": {
  "interpreter": {
   "hash": "31f2aee4e71d21fbe5cf8b01ff0e069b9275f58929596ceb00d14d90e3e16cd6"
  },
  "kernelspec": {
   "display_name": "Python 3.9.2 64-bit",
   "language": "python",
   "name": "python3"
  },
  "language_info": {
   "codemirror_mode": {
    "name": "ipython",
    "version": 3
   },
   "file_extension": ".py",
   "mimetype": "text/x-python",
   "name": "python",
   "nbconvert_exporter": "python",
   "pygments_lexer": "ipython3",
   "version": "3.11.2"
  },
  "orig_nbformat": 4
 },
 "nbformat": 4,
 "nbformat_minor": 2
}
